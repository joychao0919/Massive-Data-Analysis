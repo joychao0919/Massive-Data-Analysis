{
 "cells": [
  {
   "cell_type": "code",
   "execution_count": 1,
   "metadata": {},
   "outputs": [],
   "source": [
    "from pyspark import SparkConf, SparkContext\n",
    "import pyspark.sql.functions as f\n",
    "import math\n",
    "import random"
   ]
  },
  {
   "cell_type": "markdown",
   "metadata": {},
   "source": [
    "## lower_clean_str(x)\n",
    "* Clear the punctuations in the documents."
   ]
  },
  {
   "cell_type": "code",
   "execution_count": 2,
   "metadata": {},
   "outputs": [],
   "source": [
    "def lower_clean_str(x):\n",
    "    punc='!\"#$%&\\'()*+,-./:;<=>?@[\\\\]^_`{|}~'\n",
    "    lowercased_str = x.lower()\n",
    "    lowercased_str = lowercased_str.replace(r'\\\\n', '')\n",
    "    for ch in punc:\n",
    "        lowercased_str = lowercased_str.replace(ch, '')\n",
    "    wordlist = lowercased_str.split(\" \")\n",
    "    return wordlist"
   ]
  },
  {
   "cell_type": "markdown",
   "metadata": {},
   "source": [
    "## kshingles(line, name)\n",
    "* Split the document into 3-shingles.\n",
    "* Output format is (word1, word2, word3)."
   ]
  },
  {
   "cell_type": "code",
   "execution_count": 3,
   "metadata": {},
   "outputs": [],
   "source": [
    "def kshingles(line, name):\n",
    "    line_len = len(line)\n",
    "    maplist = []\n",
    "    for i in range (line_len-2):\n",
    "        maplist.append((line[i], line[i+1], line[i+2]))\n",
    "    return maplist"
   ]
  },
  {
   "cell_type": "markdown",
   "metadata": {},
   "source": [
    "## kshingles2(line, name)\n",
    "* Add the file name in front of every shingles.\n",
    "* The output format is ('00x', (word1, word2, word3))."
   ]
  },
  {
   "cell_type": "code",
   "execution_count": 4,
   "metadata": {},
   "outputs": [],
   "source": [
    "def kshingles2(line, name):\n",
    "    if name < 10:\n",
    "        newName = '00' + str(name)\n",
    "    elif name < 100:\n",
    "        newName = '0' + str(name)\n",
    "    else:\n",
    "        newName = str(name)\n",
    "    line_len = len(line)\n",
    "    maplist = []\n",
    "    for i in range (line_len-2):\n",
    "        maplist.append((newName, [line[i], line[i+1], line[i+2]]))\n",
    "    return maplist"
   ]
  },
  {
   "cell_type": "markdown",
   "metadata": {},
   "source": [
    "## Global Variables\n",
    "* Define number of document and number of hash functions."
   ]
  },
  {
   "cell_type": "code",
   "execution_count": 5,
   "metadata": {},
   "outputs": [],
   "source": [
    "docSize = 101 #101\n",
    "hashSize = 100 #100"
   ]
  },
  {
   "cell_type": "markdown",
   "metadata": {},
   "source": [
    "## Main\n",
    "* Read all the documents from folder.\n",
    "* Set an index to all the shingles."
   ]
  },
  {
   "cell_type": "code",
   "execution_count": 6,
   "metadata": {
    "scrolled": false
   },
   "outputs": [
    {
     "name": "stdout",
     "output_type": "stream",
     "text": [
      "1\n",
      "2\n",
      "3\n",
      "4\n",
      "5\n",
      "6\n",
      "7\n",
      "8\n",
      "9\n",
      "10\n",
      "11\n",
      "12\n",
      "13\n",
      "14\n",
      "15\n",
      "16\n",
      "17\n",
      "18\n",
      "19\n",
      "20\n",
      "21\n",
      "22\n",
      "23\n",
      "24\n",
      "25\n",
      "26\n",
      "27\n",
      "28\n",
      "29\n",
      "30\n",
      "31\n",
      "32\n",
      "33\n",
      "34\n",
      "35\n",
      "36\n",
      "37\n",
      "38\n",
      "39\n",
      "40\n",
      "41\n",
      "42\n",
      "43\n",
      "44\n",
      "45\n",
      "46\n",
      "47\n",
      "48\n",
      "49\n",
      "50\n",
      "51\n",
      "52\n",
      "53\n",
      "54\n",
      "55\n",
      "56\n",
      "57\n",
      "58\n",
      "59\n",
      "60\n",
      "61\n",
      "62\n",
      "63\n",
      "64\n",
      "65\n",
      "66\n",
      "67\n",
      "68\n",
      "69\n",
      "70\n",
      "71\n",
      "72\n",
      "73\n",
      "74\n",
      "75\n",
      "76\n",
      "77\n",
      "78\n",
      "79\n",
      "80\n",
      "81\n",
      "82\n",
      "83\n",
      "84\n",
      "85\n",
      "86\n",
      "87\n",
      "88\n",
      "89\n",
      "90\n",
      "91\n",
      "92\n",
      "93\n",
      "94\n",
      "95\n",
      "96\n",
      "97\n",
      "98\n",
      "99\n",
      "100\n",
      "101\n"
     ]
    }
   ],
   "source": [
    "sc.stop()\n",
    "\n",
    "conf = SparkConf().setMaster(\"local\").setAppName(\"LSH\")\n",
    "sc = SparkContext(conf=conf)\n",
    "\n",
    "fileNum = 0\n",
    "fileName = 'null'\n",
    "\n",
    "for i in range(1, docSize+1):\n",
    "    \n",
    "    if i < 10:\n",
    "        fileName = 'athletics/00' + str(i) + '.txt'\n",
    "    elif i < 100:\n",
    "        fileName = 'athletics/0' + str(i) + '.txt'\n",
    "    else:\n",
    "        fileName = 'athletics/' + str(i) + '.txt'\n",
    "    '''\n",
    "    if i == 1:\n",
    "        fileName = 'athletics/047.txt'\n",
    "    elif i == 2:\n",
    "        fileName = 'athletics/048.txt'\n",
    "    elif i == 3:\n",
    "        fileName = 'athletics/049.txt'\n",
    "    '''\n",
    "    file = sc.textFile(fileName)\n",
    "    clean_text = file.map(lower_clean_str)\n",
    "    shingles = clean_text.flatMap(lambda x: kshingles(x, str(i)))\n",
    "    shingles_with_key = clean_text.flatMap(lambda x: kshingles2(x, i)).groupByKey().mapValues(tuple)\n",
    "    #print(shingles_with_key.collect())\n",
    "\n",
    "    if i == 1:\n",
    "        main_shingles = sc.parallelize([])\n",
    "        main_shingles_with_key = sc.parallelize([])\n",
    "\n",
    "    main_shingles = main_shingles.union(shingles)\n",
    "    main_shingles_with_key = main_shingles_with_key.union(shingles_with_key)\n",
    "\n",
    "    print(i)\n",
    "        \n",
    "main_shingles = main_shingles.repartition(4)\n",
    "main_shingles = main_shingles.distinct()\n",
    "main_shingles = main_shingles.zipWithIndex()\n",
    "\n",
    "#print(main_shingles.collect())\n",
    "#print(main_shingles_with_key.collect())\n",
    "#print(main_shingles_with_key.cache().take(5))"
   ]
  },
  {
   "cell_type": "markdown",
   "metadata": {},
   "source": [
    "## mapper1(line)\n",
    "* Check every shingles of a file, and change them to their corresponding index.\n",
    "* If a shingle is in the file, then the value will be set as 1.\n",
    "* If a shingle is not in the file, then the value will be set as 0.\n",
    "* The output format is (('00x', (shingle's index, 1)) or (('00x', (shingle's index, 0))."
   ]
  },
  {
   "cell_type": "code",
   "execution_count": 7,
   "metadata": {},
   "outputs": [],
   "source": [
    "def mapper1(line):\n",
    "    maplist = []\n",
    "    flag = 0\n",
    "    for i in range(len(line[0][1])):\n",
    "        if (line[1][0][0] == line[0][1][i][0]) and (line[1][0][1] == line[0][1][i][1]) and (line[1][0][2] == line[0][1][i][2]):\n",
    "            maplist.append((line[0][0], (line[1][1], 1)))\n",
    "            flag = 1\n",
    "            break\n",
    "    if flag == 0:\n",
    "        maplist.append((line[0][0], (line[1][1], 0)))\n",
    "    return maplist"
   ]
  },
  {
   "cell_type": "code",
   "execution_count": 8,
   "metadata": {},
   "outputs": [],
   "source": [
    "#print(len(main_shingles_with_key.collect()))\n",
    "shingles_length = len(main_shingles.collect())\n",
    "#print(shingles_length)\n",
    "cart_shingles = main_shingles_with_key.cartesian(main_shingles)\n",
    "#print(cart_shingles.collect()[386])\n",
    "#print(cart_shingles.collect()[0])\n",
    "change_to_num = cart_shingles.flatMap(mapper1).groupByKey().mapValues(tuple)\n",
    "#print(change_to_num.collect())"
   ]
  },
  {
   "cell_type": "markdown",
   "metadata": {},
   "source": [
    "## Prepare for Minhash\n",
    "* Generate mod variables for hash function (ax+b)%c.\n",
    "* There are total 100 hash functions, so there need to be 200 varibles.\n",
    "* For c, it should be a prime number.\n",
    "* isPrime(n) can check whether the number n is prime or not."
   ]
  },
  {
   "cell_type": "code",
   "execution_count": 9,
   "metadata": {},
   "outputs": [],
   "source": [
    "def isPrime(n) : \n",
    "    # Corner cases \n",
    "    if (n <= 1) : \n",
    "        return False\n",
    "    if (n <= 3) : \n",
    "        return True\n",
    "    # This is checked so that we can skip \n",
    "    # middle five numbers in below loop \n",
    "    if (n % 2 == 0 or n % 3 == 0) : \n",
    "        return False\n",
    "    i = 5\n",
    "    while(i * i <= n) : \n",
    "        if (n % i == 0 or n % (i + 2) == 0) : \n",
    "            return False\n",
    "        i = i + 6\n",
    "    return True\n",
    "\n",
    "\n",
    "primes = [j for j in range(len(main_shingles.collect()), 3*len(main_shingles.collect())) if isPrime(j)]\n",
    "mod_num = random.choice(primes)\n",
    "int_mod_num = int(mod_num)\n",
    "\n",
    "#mod_a = random.sample(range(1, len(main_shingles.collect())), 100)\n",
    "#mod_b = random.sample(range(1, len(main_shingles.collect())), 100)\n",
    "\n",
    "modd = random.sample(range(1, len(main_shingles.collect())), 200)\n",
    "#print(mod_a)\n",
    "#print(mod_b)\n",
    "\n",
    "\n",
    "for j in range(1, docSize+1):\n",
    "    if j < 10:\n",
    "        file_idx = '00' + str(j)\n",
    "    elif j < 100:\n",
    "        file_idx = '0' + str(j)\n",
    "    else:\n",
    "        file_idx = str(j)\n",
    "    rdd_mod_tmp = sc.parallelize([(file_idx, tuple((modd, int_mod_num)))])\n",
    "    if j == 1:\n",
    "        main_rdd_mod = sc.parallelize([])\n",
    "        main_rdd_mod = main_rdd_mod.union(rdd_mod_tmp)\n",
    "    else:\n",
    "        main_rdd_mod = main_rdd_mod.union(rdd_mod_tmp)\n",
    "\n",
    "#print(main_rdd_mod.collect())\n"
   ]
  },
  {
   "cell_type": "code",
   "execution_count": 10,
   "metadata": {},
   "outputs": [],
   "source": [
    "#print(change_to_num.collect())\n",
    "name_sig_mod = change_to_num.union(main_rdd_mod).groupByKey().mapValues(tuple)\n",
    "    \n",
    "#print(name_sig_mod.collect())"
   ]
  },
  {
   "cell_type": "markdown",
   "metadata": {},
   "source": [
    "## doMinhash(line)\n",
    "* Check if current document contains specific 3-shingles.\n",
    "* If the document does contain that shingle, then find the minimum result of the hash function.\n",
    "* The output format is (document's index, (signatures, k-shingles))."
   ]
  },
  {
   "cell_type": "code",
   "execution_count": 11,
   "metadata": {},
   "outputs": [],
   "source": [
    "#print(name_sig_mod.collect()[3])\n",
    "#print(name_sig_mod.collect()[4])\n",
    "#print(shingles_length)\n",
    "\n",
    "def doMinhash(line):\n",
    "    maplist = []\n",
    "    wordlist = []\n",
    "    wordlist2 = []\n",
    "    for i in range(100): #第幾個hash function\n",
    "        mini = math.inf\n",
    "        for j in range(shingles_length): #幾個shingles要丟進hash\n",
    "            if line[1][0][j][1] == 1 and ((line[1][1][0][2*i]*j + line[1][1][0][2*i+1])%line[1][1][1]) < mini:\n",
    "                mini = (line[1][1][0][2*i]*j + line[1][1][0][2*i+1])%line[1][1][1]\n",
    "        wordlist.append(mini)\n",
    "    for k in range(shingles_length):\n",
    "        if line[1][0][k][1] == 1:\n",
    "            wordlist2.append(line[1][0][k][0])\n",
    "    #maplist.append((line[0], tuple(wordlist)))\n",
    "    maplist.append((line[0], (tuple(wordlist), tuple(wordlist2))))\n",
    "    return maplist\n",
    "\n",
    "name_sig = name_sig_mod.flatMap(doMinhash)\n",
    "#print(name_sig.collect())\n",
    "#print(name_sig.cache().take(5))"
   ]
  },
  {
   "cell_type": "markdown",
   "metadata": {},
   "source": [
    "## hashToBuckets(line)\n",
    "* Generate two variables a and b for the bucket's hash function.\n",
    "* Band = 50 and row = 2, and I set my bucket number as 10000.\n",
    "* Then my hash function goes like (ax + by)%10000"
   ]
  },
  {
   "cell_type": "code",
   "execution_count": 12,
   "metadata": {},
   "outputs": [],
   "source": [
    "bucketNum = 10000\n",
    "bucket_a = random.sample(range(50, 200), 1)\n",
    "bucket_b = random.sample(range(50, 200), 1)\n",
    "\n",
    "def hashToBuckets(line):\n",
    "    wordlist = []\n",
    "    maplist = []\n",
    "    for i in range(50):\n",
    "        bucket_idx = (line[1][0][2*i]*int(bucket_a[0]) + line[1][0][2*i+1]*int(bucket_b[0]))%bucketNum\n",
    "        wordlist.append(bucket_idx)\n",
    "    maplist.append((line[0], (tuple(wordlist), line[1][1])))\n",
    "    return maplist\n",
    "\n",
    "after_LSH = name_sig.flatMap(hashToBuckets)\n",
    "\n",
    "after_LSH = after_LSH.repartition(4)\n",
    "#print(after_LSH.collect())\n",
    "#print(after_LSH.cache().take(5))"
   ]
  },
  {
   "cell_type": "code",
   "execution_count": 13,
   "metadata": {},
   "outputs": [],
   "source": [
    "after_LSH = after_LSH.repartition(4)\n",
    "combine_two_pairs = after_LSH.cartesian(after_LSH)\n",
    "\n",
    "#print(combine_two_pairs.collect())"
   ]
  },
  {
   "cell_type": "markdown",
   "metadata": {},
   "source": [
    "## calculate_jaccard(line)\n",
    "* For every two documents, if they have more than one same bucket, then they are a candidate pair.\n",
    "* For each candidate pair, calculate their jaccard similarity.\n",
    "* The output format is ((jaccard similarity, (document 1's index, document 2's index))"
   ]
  },
  {
   "cell_type": "code",
   "execution_count": 14,
   "metadata": {},
   "outputs": [],
   "source": [
    "def calculate_jaccard(line):\n",
    "    maplist = []\n",
    "    \n",
    "    if line[0][0] != line[1][0] and int(line[0][0]) < int(line[1][0]): #去掉同樣的\n",
    "        #先判斷candidate pair\n",
    "        isCandidate = 0\n",
    "        for i in range(50):\n",
    "            if line[0][1][0][i] == line[1][1][0][i]:\n",
    "                isCandidate = 1\n",
    "\n",
    "        #計算jaccard similarity\n",
    "        if isCandidate == 1:\n",
    "            same_elements = len(set(line[0][1][1]).intersection(set(line[1][1][1])))\n",
    "            total_shingles = len(set(line[0][1][1]).union(set(line[1][1][1])))\n",
    "            jaccard_similarity = same_elements/total_shingles*100\n",
    "            maplist.append((jaccard_similarity, (line[0][0], line[1][0])))\n",
    "    return maplist\n",
    "\n",
    "combine_two_pairs = combine_two_pairs.repartition(4)\n",
    "two_pairs_jaccard = combine_two_pairs.flatMap(calculate_jaccard)\n",
    "#print(two_pairs_jaccard.collect())"
   ]
  },
  {
   "cell_type": "markdown",
   "metadata": {},
   "source": [
    "## sortBy(lambda x: x[0], ascending=False)\n",
    "* Sort the result in ascending order."
   ]
  },
  {
   "cell_type": "code",
   "execution_count": 15,
   "metadata": {},
   "outputs": [],
   "source": [
    "two_pairs_jaccard = two_pairs_jaccard.repartition(4)\n",
    "descending_pairs = two_pairs_jaccard.sortBy(lambda x: x[0], ascending=False)\n",
    "#print(descending_pairs.cache().take(10))\n",
    "#print(descending_pairs.collect()[0])"
   ]
  },
  {
   "cell_type": "code",
   "execution_count": 16,
   "metadata": {},
   "outputs": [
    {
     "name": "stdout",
     "output_type": "stream",
     "text": [
      "(12, 20) 100.0%\n",
      "(52, 84) 100.0%\n",
      "(47, 49) 75.76301615798923%\n",
      "(30, 35) 71.0%\n",
      "(49, 88) 51.47579693034239%\n",
      "(48, 49) 48.5781990521327%\n",
      "(23, 38) 48.17708333333333%\n",
      "(14, 40) 40.03392705682782%\n",
      "(47, 88) 39.033124440465535%\n",
      "(47, 48) 36.80430879712747%\n"
     ]
    }
   ],
   "source": [
    "#descending_pairs = descending_pairs.repartition(4)\n",
    "\n",
    "for i in range(10):\n",
    "    print((int(descending_pairs.collect()[i][1][0]), int(descending_pairs.collect()[i][1][1])), str(descending_pairs.collect()[i][0])+'%')\n"
   ]
  },
  {
   "cell_type": "code",
   "execution_count": 17,
   "metadata": {},
   "outputs": [],
   "source": [
    "sc.stop()"
   ]
  },
  {
   "cell_type": "code",
   "execution_count": null,
   "metadata": {},
   "outputs": [],
   "source": []
  }
 ],
 "metadata": {
  "kernelspec": {
   "display_name": "Python 3",
   "language": "python",
   "name": "python3"
  },
  "language_info": {
   "codemirror_mode": {
    "name": "ipython",
    "version": 3
   },
   "file_extension": ".py",
   "mimetype": "text/x-python",
   "name": "python",
   "nbconvert_exporter": "python",
   "pygments_lexer": "ipython3",
   "version": "3.6.10"
  }
 },
 "nbformat": 4,
 "nbformat_minor": 4
}
